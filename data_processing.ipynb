{
 "cells": [
  {
   "cell_type": "code",
   "execution_count": 49,
   "metadata": {},
   "outputs": [],
   "source": [
    "#Based on: https://scikit-learn.org/stable/modules/generated/sklearn.ensemble.RandomForestClassifier.html"
   ]
  },
  {
   "cell_type": "code",
   "execution_count": 50,
   "metadata": {},
   "outputs": [],
   "source": [
    "from keras.applications.resnet50 import ResNet50\n",
    "from keras.preprocessing import image\n",
    "from keras.applications.resnet50 import preprocess_input, decode_predictions\n",
    "import numpy as np\n",
    "import warnings\n",
    "warnings.filterwarnings(\"ignore\")\n",
    "import os\n",
    "import time"
   ]
  },
  {
   "cell_type": "code",
   "execution_count": 51,
   "metadata": {},
   "outputs": [],
   "source": [
    "import numpy as np"
   ]
  },
  {
   "cell_type": "code",
   "execution_count": 52,
   "metadata": {},
   "outputs": [],
   "source": [
    "import pandas as pd\n",
    "import matplotlib\n",
    "from matplotlib import pyplot as plt\n",
    "import re\n",
    "import string\n",
    "import sklearn\n",
    "from sklearn.metrics import accuracy_score, confusion_matrix, classification_report\n",
    "%matplotlib inline\n",
    "import seaborn as sns\n"
   ]
  },
  {
   "cell_type": "code",
   "execution_count": 53,
   "metadata": {},
   "outputs": [],
   "source": [
    "curr_dir = os.getcwd()"
   ]
  },
  {
   "cell_type": "code",
   "execution_count": 54,
   "metadata": {},
   "outputs": [],
   "source": [
    "df = pd.read_csv(curr_dir+'/data/ISIC-2017_Training_Data_metadata.csv')\n",
    "df2 = pd.read_csv(curr_dir+'/data/ISIC-2017_Training_Part3_GroundTruth.csv')"
   ]
  },
  {
   "cell_type": "code",
   "execution_count": 55,
   "metadata": {},
   "outputs": [],
   "source": [
    " df = df.merge(df2, left_on='image_id', right_on='image_id', how='outer')"
   ]
  },
  {
   "cell_type": "code",
   "execution_count": 56,
   "metadata": {},
   "outputs": [
    {
     "data": {
      "text/html": [
       "<div>\n",
       "<style scoped>\n",
       "    .dataframe tbody tr th:only-of-type {\n",
       "        vertical-align: middle;\n",
       "    }\n",
       "\n",
       "    .dataframe tbody tr th {\n",
       "        vertical-align: top;\n",
       "    }\n",
       "\n",
       "    .dataframe thead th {\n",
       "        text-align: right;\n",
       "    }\n",
       "</style>\n",
       "<table border=\"1\" class=\"dataframe\">\n",
       "  <thead>\n",
       "    <tr style=\"text-align: right;\">\n",
       "      <th></th>\n",
       "      <th>image_id</th>\n",
       "      <th>age_approximate</th>\n",
       "      <th>sex</th>\n",
       "      <th>melanoma</th>\n",
       "      <th>seborrheic_keratosis</th>\n",
       "    </tr>\n",
       "  </thead>\n",
       "  <tbody>\n",
       "    <tr>\n",
       "      <th>0</th>\n",
       "      <td>ISIC_0000000</td>\n",
       "      <td>55</td>\n",
       "      <td>female</td>\n",
       "      <td>0.0</td>\n",
       "      <td>0.0</td>\n",
       "    </tr>\n",
       "    <tr>\n",
       "      <th>1</th>\n",
       "      <td>ISIC_0000001</td>\n",
       "      <td>30</td>\n",
       "      <td>female</td>\n",
       "      <td>0.0</td>\n",
       "      <td>0.0</td>\n",
       "    </tr>\n",
       "    <tr>\n",
       "      <th>2</th>\n",
       "      <td>ISIC_0000002</td>\n",
       "      <td>60</td>\n",
       "      <td>female</td>\n",
       "      <td>1.0</td>\n",
       "      <td>0.0</td>\n",
       "    </tr>\n",
       "    <tr>\n",
       "      <th>3</th>\n",
       "      <td>ISIC_0000003</td>\n",
       "      <td>30</td>\n",
       "      <td>male</td>\n",
       "      <td>0.0</td>\n",
       "      <td>0.0</td>\n",
       "    </tr>\n",
       "    <tr>\n",
       "      <th>4</th>\n",
       "      <td>ISIC_0000004</td>\n",
       "      <td>80</td>\n",
       "      <td>male</td>\n",
       "      <td>1.0</td>\n",
       "      <td>0.0</td>\n",
       "    </tr>\n",
       "  </tbody>\n",
       "</table>\n",
       "</div>"
      ],
      "text/plain": [
       "       image_id age_approximate     sex  melanoma  seborrheic_keratosis\n",
       "0  ISIC_0000000              55  female       0.0                   0.0\n",
       "1  ISIC_0000001              30  female       0.0                   0.0\n",
       "2  ISIC_0000002              60  female       1.0                   0.0\n",
       "3  ISIC_0000003              30    male       0.0                   0.0\n",
       "4  ISIC_0000004              80    male       1.0                   0.0"
      ]
     },
     "execution_count": 56,
     "metadata": {},
     "output_type": "execute_result"
    }
   ],
   "source": [
    "df.head(5)"
   ]
  },
  {
   "cell_type": "code",
   "execution_count": 57,
   "metadata": {},
   "outputs": [],
   "source": [
    "dict_df = {'age_max_min':[max([x  for x in df.age_approximate if x!='unknown']),min([x  for x in df.age_approximate if x!='unknown'])],\n",
    "           'age_groups':set(df.age_approximate),\n",
    "           'gender':set(df.sex),\n",
    "          }"
   ]
  },
  {
   "cell_type": "code",
   "execution_count": 58,
   "metadata": {},
   "outputs": [],
   "source": [
    "#dict_df.get('max_min_age')[0]=filter(lambda x: max(x), df.age_approximate)\n",
    "set(df.age_approximate)\n",
    "for x in df.age_approximate:\n",
    "    if not x:\n",
    "        print(x)"
   ]
  },
  {
   "cell_type": "code",
   "execution_count": 59,
   "metadata": {},
   "outputs": [
    {
     "name": "stdout",
     "output_type": "stream",
     "text": [
      "Number of unknown age:  256\n"
     ]
    }
   ],
   "source": [
    "print('Number of unknown age: ', sum([1  for x in df.age_approximate if x=='unknown']))"
   ]
  },
  {
   "cell_type": "code",
   "execution_count": 60,
   "metadata": {},
   "outputs": [
    {
     "name": "stdout",
     "output_type": "stream",
     "text": [
      "Number of unknown sex:  229\n"
     ]
    }
   ],
   "source": [
    "print('Number of unknown sex: ', sum([1  for x in df.sex if x=='unknown']))"
   ]
  },
  {
   "cell_type": "code",
   "execution_count": 61,
   "metadata": {},
   "outputs": [
    {
     "data": {
      "text/plain": [
       "['85', '10']"
      ]
     },
     "execution_count": 61,
     "metadata": {},
     "output_type": "execute_result"
    }
   ],
   "source": [
    "dict_df['age_max_min']"
   ]
  },
  {
   "cell_type": "code",
   "execution_count": 62,
   "metadata": {},
   "outputs": [
    {
     "data": {
      "text/plain": [
       "{'10',\n",
       " '15',\n",
       " '20',\n",
       " '25',\n",
       " '30',\n",
       " '35',\n",
       " '40',\n",
       " '45',\n",
       " '5',\n",
       " '50',\n",
       " '55',\n",
       " '60',\n",
       " '65',\n",
       " '70',\n",
       " '75',\n",
       " '80',\n",
       " '85',\n",
       " 'unknown'}"
      ]
     },
     "execution_count": 62,
     "metadata": {},
     "output_type": "execute_result"
    }
   ],
   "source": [
    "dict_df['age_groups']"
   ]
  },
  {
   "cell_type": "code",
   "execution_count": 63,
   "metadata": {},
   "outputs": [
    {
     "data": {
      "text/plain": [
       "{'female', 'male', 'unknown'}"
      ]
     },
     "execution_count": 63,
     "metadata": {},
     "output_type": "execute_result"
    }
   ],
   "source": [
    "dict_df['gender']"
   ]
  },
  {
   "cell_type": "code",
   "execution_count": 64,
   "metadata": {
    "scrolled": true
   },
   "outputs": [
    {
     "data": {
      "text/plain": [
       "Index(['image_id', 'age_approximate', 'sex', 'melanoma',\n",
       "       'seborrheic_keratosis'],\n",
       "      dtype='object')"
      ]
     },
     "execution_count": 64,
     "metadata": {},
     "output_type": "execute_result"
    }
   ],
   "source": [
    "df.columns"
   ]
  },
  {
   "cell_type": "markdown",
   "metadata": {},
   "source": [
    "----"
   ]
  },
  {
   "cell_type": "markdown",
   "metadata": {},
   "source": [
    "### Random Forest"
   ]
  },
  {
   "cell_type": "code",
   "execution_count": 65,
   "metadata": {},
   "outputs": [],
   "source": [
    "from sklearn.ensemble import RandomForestClassifier\n",
    "from sklearn.datasets import make_classification"
   ]
  },
  {
   "cell_type": "code",
   "execution_count": 66,
   "metadata": {},
   "outputs": [
    {
     "data": {
      "text/html": [
       "<div>\n",
       "<style scoped>\n",
       "    .dataframe tbody tr th:only-of-type {\n",
       "        vertical-align: middle;\n",
       "    }\n",
       "\n",
       "    .dataframe tbody tr th {\n",
       "        vertical-align: top;\n",
       "    }\n",
       "\n",
       "    .dataframe thead th {\n",
       "        text-align: right;\n",
       "    }\n",
       "</style>\n",
       "<table border=\"1\" class=\"dataframe\">\n",
       "  <thead>\n",
       "    <tr style=\"text-align: right;\">\n",
       "      <th></th>\n",
       "      <th>age_approximate</th>\n",
       "      <th>sex</th>\n",
       "    </tr>\n",
       "  </thead>\n",
       "  <tbody>\n",
       "    <tr>\n",
       "      <th>0</th>\n",
       "      <td>55</td>\n",
       "      <td>female</td>\n",
       "    </tr>\n",
       "    <tr>\n",
       "      <th>1</th>\n",
       "      <td>30</td>\n",
       "      <td>female</td>\n",
       "    </tr>\n",
       "  </tbody>\n",
       "</table>\n",
       "</div>"
      ],
      "text/plain": [
       "  age_approximate     sex\n",
       "0              55  female\n",
       "1              30  female"
      ]
     },
     "execution_count": 66,
     "metadata": {},
     "output_type": "execute_result"
    }
   ],
   "source": [
    "columns=['age_approximate', 'sex']\n",
    "X= df[columns]  ##this makes a copy\n",
    "y=df[['melanoma']]\n",
    "X.head(2)"
   ]
  },
  {
   "cell_type": "code",
   "execution_count": 67,
   "metadata": {},
   "outputs": [],
   "source": [
    "X.sex = X.sex.map({'female': 0, 'male': 1,'unknown':2}) #need to change all the values for this"
   ]
  },
  {
   "cell_type": "code",
   "execution_count": 68,
   "metadata": {},
   "outputs": [],
   "source": [
    "#X.age_approximate = X.age_approximate.map({'unknown': '0'})\n",
    "X.loc[X.age_approximate == 'unknown', 'age_approximate'] = 0"
   ]
  },
  {
   "cell_type": "code",
   "execution_count": 69,
   "metadata": {},
   "outputs": [
    {
     "data": {
      "text/plain": [
       "{'age_groups': {'10',\n",
       "  '15',\n",
       "  '20',\n",
       "  '25',\n",
       "  '30',\n",
       "  '35',\n",
       "  '40',\n",
       "  '45',\n",
       "  '5',\n",
       "  '50',\n",
       "  '55',\n",
       "  '60',\n",
       "  '65',\n",
       "  '70',\n",
       "  '75',\n",
       "  '80',\n",
       "  '85',\n",
       "  'unknown'},\n",
       " 'age_max_min': ['85', '10'],\n",
       " 'gender': {'female', 'male', 'unknown'}}"
      ]
     },
     "execution_count": 69,
     "metadata": {},
     "output_type": "execute_result"
    }
   ],
   "source": [
    "dict_df"
   ]
  },
  {
   "cell_type": "code",
   "execution_count": 80,
   "metadata": {},
   "outputs": [
    {
     "name": "stdout",
     "output_type": "stream",
     "text": [
      "[0.75879854 0.24120146]\n",
      "[0.]\n"
     ]
    }
   ],
   "source": [
    "#X, y = make_classification(n_samples=1000, n_features=4,\n",
    "#                           n_informative=2, n_redundant=0,\n",
    "#                           random_state=0, shuffle=False)\n",
    "clf = RandomForestClassifier(n_estimators=100, max_depth=2,\n",
    "                             random_state=0)\n",
    "clf.fit(X, y)\n",
    "RandomForestClassifier(bootstrap=True, class_weight=None, criterion='gini',\n",
    "            max_depth=25, max_features='auto', max_leaf_nodes=None,\n",
    "            min_impurity_decrease=0.0, min_impurity_split=None,\n",
    "            min_samples_leaf=1, min_samples_split=2,\n",
    "            min_weight_fraction_leaf=0.0, n_estimators=100, n_jobs=None,\n",
    "            oob_score=False, random_state=0, verbose=0, warm_start=False)\n",
    "print(clf.feature_importances_)\n",
    "print(clf.predict([[7, 1]]))"
   ]
  },
  {
   "cell_type": "code",
   "execution_count": 82,
   "metadata": {},
   "outputs": [
    {
     "ename": "TypeError",
     "evalue": "[DecisionTreeClassifier(class_weight=None, criterion='gini', max_depth=2,\n            max_features='auto', max_leaf_nodes=None,\n            min_impurity_decrease=0.0, min_impurity_split=None,\n            min_samples_leaf=1, min_samples_split=2,\n            min_weight_fraction_leaf=0.0, presort=False,\n            random_state=209652396, splitter='best'), DecisionTreeClassifier(class_weight=None, criterion='gini', max_depth=2,\n            max_features='auto', max_leaf_nodes=None,\n            min_impurity_decrease=0.0, min_impurity_split=None,\n            min_samples_leaf=1, min_samples_split=2,\n            min_weight_fraction_leaf=0.0, presort=False,\n            random_state=398764591, splitter='best'), DecisionTreeClassifier(class_weight=None, criterion='gini', max_depth=2,\n            max_features='auto', max_leaf_nodes=None,\n            min_impurity_decrease=0.0, min_impurity_split=None,\n            min_samples_leaf=1, min_samples_split=2,\n            min_weight_fraction_leaf=0.0, presort=False,\n            random_state=924231285, splitter='best'), DecisionTreeClassifier(class_weight=None, criterion='gini', max_depth=2,\n            max_features='auto', max_leaf_nodes=None,\n            min_impurity_decrease=0.0, min_impurity_split=None,\n            min_samples_leaf=1, min_samples_split=2,\n            min_weight_fraction_leaf=0.0, presort=False,\n            random_state=1478610112, splitter='best'), DecisionTreeClassifier(class_weight=None, criterion='gini', max_depth=2,\n            max_features='auto', max_leaf_nodes=None,\n            min_impurity_decrease=0.0, min_impurity_split=None,\n            min_samples_leaf=1, min_samples_split=2,\n            min_weight_fraction_leaf=0.0, presort=False,\n            random_state=441365315, splitter='best'), DecisionTreeClassifier(class_weight=None, criterion='gini', max_depth=2,\n            max_features='auto', max_leaf_nodes=None,\n            min_impurity_decrease=0.0, min_impurity_split=None,\n            min_samples_leaf=1, min_samples_split=2,\n            min_weight_fraction_leaf=0.0, presort=False,\n            random_state=1537364731, splitter='best'), DecisionTreeClassifier(class_weight=None, criterion='gini', max_depth=2,\n            max_features='auto', max_leaf_nodes=None,\n            min_impurity_decrease=0.0, min_impurity_split=None,\n            min_samples_leaf=1, min_samples_split=2,\n            min_weight_fraction_leaf=0.0, presort=False,\n            random_state=192771779, splitter='best'), DecisionTreeClassifier(class_weight=None, criterion='gini', max_depth=2,\n            max_features='auto', max_leaf_nodes=None,\n            min_impurity_decrease=0.0, min_impurity_split=None,\n            min_samples_leaf=1, min_samples_split=2,\n            min_weight_fraction_leaf=0.0, presort=False,\n            random_state=1491434855, splitter='best'), DecisionTreeClassifier(class_weight=None, criterion='gini', max_depth=2,\n            max_features='auto', max_leaf_nodes=None,\n            min_impurity_decrease=0.0, min_impurity_split=None,\n            min_samples_leaf=1, min_samples_split=2,\n            min_weight_fraction_leaf=0.0, presort=False,\n            random_state=1819583497, splitter='best'), DecisionTreeClassifier(class_weight=None, criterion='gini', max_depth=2,\n            max_features='auto', max_leaf_nodes=None,\n            min_impurity_decrease=0.0, min_impurity_split=None,\n            min_samples_leaf=1, min_samples_split=2,\n            min_weight_fraction_leaf=0.0, presort=False,\n            random_state=530702035, splitter='best'), DecisionTreeClassifier(class_weight=None, criterion='gini', max_depth=2,\n            max_features='auto', max_leaf_nodes=None,\n            min_impurity_decrease=0.0, min_impurity_split=None,\n            min_samples_leaf=1, min_samples_split=2,\n            min_weight_fraction_leaf=0.0, presort=False,\n            random_state=626610453, splitter='best'), DecisionTreeClassifier(class_weight=None, criterion='gini', max_depth=2,\n            max_features='auto', max_leaf_nodes=None,\n            min_impurity_decrease=0.0, min_impurity_split=None,\n            min_samples_leaf=1, min_samples_split=2,\n            min_weight_fraction_leaf=0.0, presort=False,\n            random_state=1650906866, splitter='best'), DecisionTreeClassifier(class_weight=None, criterion='gini', max_depth=2,\n            max_features='auto', max_leaf_nodes=None,\n            min_impurity_decrease=0.0, min_impurity_split=None,\n            min_samples_leaf=1, min_samples_split=2,\n            min_weight_fraction_leaf=0.0, presort=False,\n            random_state=1879422756, splitter='best'), DecisionTreeClassifier(class_weight=None, criterion='gini', max_depth=2,\n            max_features='auto', max_leaf_nodes=None,\n            min_impurity_decrease=0.0, min_impurity_split=None,\n            min_samples_leaf=1, min_samples_split=2,\n            min_weight_fraction_leaf=0.0, presort=False,\n            random_state=1277901399, splitter='best'), DecisionTreeClassifier(class_weight=None, criterion='gini', max_depth=2,\n            max_features='auto', max_leaf_nodes=None,\n            min_impurity_decrease=0.0, min_impurity_split=None,\n            min_samples_leaf=1, min_samples_split=2,\n            min_weight_fraction_leaf=0.0, presort=False,\n            random_state=1682652230, splitter='best'), DecisionTreeClassifier(class_weight=None, criterion='gini', max_depth=2,\n            max_features='auto', max_leaf_nodes=None,\n            min_impurity_decrease=0.0, min_impurity_split=None,\n            min_samples_leaf=1, min_samples_split=2,\n            min_weight_fraction_leaf=0.0, presort=False,\n            random_state=243580376, splitter='best'), DecisionTreeClassifier(class_weight=None, criterion='gini', max_depth=2,\n            max_features='auto', max_leaf_nodes=None,\n            min_impurity_decrease=0.0, min_impurity_split=None,\n            min_samples_leaf=1, min_samples_split=2,\n            min_weight_fraction_leaf=0.0, presort=False,\n            random_state=1991416408, splitter='best'), DecisionTreeClassifier(class_weight=None, criterion='gini', max_depth=2,\n            max_features='auto', max_leaf_nodes=None,\n            min_impurity_decrease=0.0, min_impurity_split=None,\n            min_samples_leaf=1, min_samples_split=2,\n            min_weight_fraction_leaf=0.0, presort=False,\n            random_state=1171049868, splitter='best'), DecisionTreeClassifier(class_weight=None, criterion='gini', max_depth=2,\n            max_features='auto', max_leaf_nodes=None,\n            min_impurity_decrease=0.0, min_impurity_split=None,\n            min_samples_leaf=1, min_samples_split=2,\n            min_weight_fraction_leaf=0.0, presort=False,\n            random_state=1646868794, splitter='best'), DecisionTreeClassifier(class_weight=None, criterion='gini', max_depth=2,\n            max_features='auto', max_leaf_nodes=None,\n            min_impurity_decrease=0.0, min_impurity_split=None,\n            min_samples_leaf=1, min_samples_split=2,\n            min_weight_fraction_leaf=0.0, presort=False,\n            random_state=2051556033, splitter='best'), DecisionTreeClassifier(class_weight=None, criterion='gini', max_depth=2,\n            max_features='auto', max_leaf_nodes=None,\n            min_impurity_decrease=0.0, min_impurity_split=None,\n            min_samples_leaf=1, min_samples_split=2,\n            min_weight_fraction_leaf=0.0, presort=False,\n            random_state=1252949478, splitter='best'), DecisionTreeClassifier(class_weight=None, criterion='gini', max_depth=2,\n            max_features='auto', max_leaf_nodes=None,\n            min_impurity_decrease=0.0, min_impurity_split=None,\n            min_samples_leaf=1, min_samples_split=2,\n            min_weight_fraction_leaf=0.0, presort=False,\n            random_state=1340754471, splitter='best'), DecisionTreeClassifier(class_weight=None, criterion='gini', max_depth=2,\n            max_features='auto', max_leaf_nodes=None,\n            min_impurity_decrease=0.0, min_impurity_split=None,\n            min_samples_leaf=1, min_samples_split=2,\n            min_weight_fraction_leaf=0.0, presort=False,\n            random_state=124102743, splitter='best'), DecisionTreeClassifier(class_weight=None, criterion='gini', max_depth=2,\n            max_features='auto', max_leaf_nodes=None,\n            min_impurity_decrease=0.0, min_impurity_split=None,\n            min_samples_leaf=1, min_samples_split=2,\n            min_weight_fraction_leaf=0.0, presort=False,\n            random_state=2061486254, splitter='best'), DecisionTreeClassifier(class_weight=None, criterion='gini', max_depth=2,\n            max_features='auto', max_leaf_nodes=None,\n            min_impurity_decrease=0.0, min_impurity_split=None,\n            min_samples_leaf=1, min_samples_split=2,\n            min_weight_fraction_leaf=0.0, presort=False,\n            random_state=292249176, splitter='best'), DecisionTreeClassifier(class_weight=None, criterion='gini', max_depth=2,\n            max_features='auto', max_leaf_nodes=None,\n            min_impurity_decrease=0.0, min_impurity_split=None,\n            min_samples_leaf=1, min_samples_split=2,\n            min_weight_fraction_leaf=0.0, presort=False,\n            random_state=1686997841, splitter='best'), DecisionTreeClassifier(class_weight=None, criterion='gini', max_depth=2,\n            max_features='auto', max_leaf_nodes=None,\n            min_impurity_decrease=0.0, min_impurity_split=None,\n            min_samples_leaf=1, min_samples_split=2,\n            min_weight_fraction_leaf=0.0, presort=False,\n            random_state=1827923621, splitter='best'), DecisionTreeClassifier(class_weight=None, criterion='gini', max_depth=2,\n            max_features='auto', max_leaf_nodes=None,\n            min_impurity_decrease=0.0, min_impurity_split=None,\n            min_samples_leaf=1, min_samples_split=2,\n            min_weight_fraction_leaf=0.0, presort=False,\n            random_state=1443447321, splitter='best'), DecisionTreeClassifier(class_weight=None, criterion='gini', max_depth=2,\n            max_features='auto', max_leaf_nodes=None,\n            min_impurity_decrease=0.0, min_impurity_split=None,\n            min_samples_leaf=1, min_samples_split=2,\n            min_weight_fraction_leaf=0.0, presort=False,\n            random_state=305097549, splitter='best'), DecisionTreeClassifier(class_weight=None, criterion='gini', max_depth=2,\n            max_features='auto', max_leaf_nodes=None,\n            min_impurity_decrease=0.0, min_impurity_split=None,\n            min_samples_leaf=1, min_samples_split=2,\n            min_weight_fraction_leaf=0.0, presort=False,\n            random_state=1449105480, splitter='best'), DecisionTreeClassifier(class_weight=None, criterion='gini', max_depth=2,\n            max_features='auto', max_leaf_nodes=None,\n            min_impurity_decrease=0.0, min_impurity_split=None,\n            min_samples_leaf=1, min_samples_split=2,\n            min_weight_fraction_leaf=0.0, presort=False,\n            random_state=374217481, splitter='best'), DecisionTreeClassifier(class_weight=None, criterion='gini', max_depth=2,\n            max_features='auto', max_leaf_nodes=None,\n            min_impurity_decrease=0.0, min_impurity_split=None,\n            min_samples_leaf=1, min_samples_split=2,\n            min_weight_fraction_leaf=0.0, presort=False,\n            random_state=636393364, splitter='best'), DecisionTreeClassifier(class_weight=None, criterion='gini', max_depth=2,\n            max_features='auto', max_leaf_nodes=None,\n            min_impurity_decrease=0.0, min_impurity_split=None,\n            min_samples_leaf=1, min_samples_split=2,\n            min_weight_fraction_leaf=0.0, presort=False,\n            random_state=86837363, splitter='best'), DecisionTreeClassifier(class_weight=None, criterion='gini', max_depth=2,\n            max_features='auto', max_leaf_nodes=None,\n            min_impurity_decrease=0.0, min_impurity_split=None,\n            min_samples_leaf=1, min_samples_split=2,\n            min_weight_fraction_leaf=0.0, presort=False,\n            random_state=1581585360, splitter='best'), DecisionTreeClassifier(class_weight=None, criterion='gini', max_depth=2,\n            max_features='auto', max_leaf_nodes=None,\n            min_impurity_decrease=0.0, min_impurity_split=None,\n            min_samples_leaf=1, min_samples_split=2,\n            min_weight_fraction_leaf=0.0, presort=False,\n            random_state=1428591347, splitter='best'), DecisionTreeClassifier(class_weight=None, criterion='gini', max_depth=2,\n            max_features='auto', max_leaf_nodes=None,\n            min_impurity_decrease=0.0, min_impurity_split=None,\n            min_samples_leaf=1, min_samples_split=2,\n            min_weight_fraction_leaf=0.0, presort=False,\n            random_state=1963466437, splitter='best'), DecisionTreeClassifier(class_weight=None, criterion='gini', max_depth=2,\n            max_features='auto', max_leaf_nodes=None,\n            min_impurity_decrease=0.0, min_impurity_split=None,\n            min_samples_leaf=1, min_samples_split=2,\n            min_weight_fraction_leaf=0.0, presort=False,\n            random_state=1194674174, splitter='best'), DecisionTreeClassifier(class_weight=None, criterion='gini', max_depth=2,\n            max_features='auto', max_leaf_nodes=None,\n            min_impurity_decrease=0.0, min_impurity_split=None,\n            min_samples_leaf=1, min_samples_split=2,\n            min_weight_fraction_leaf=0.0, presort=False,\n            random_state=602801999, splitter='best'), DecisionTreeClassifier(class_weight=None, criterion='gini', max_depth=2,\n            max_features='auto', max_leaf_nodes=None,\n            min_impurity_decrease=0.0, min_impurity_split=None,\n            min_samples_leaf=1, min_samples_split=2,\n            min_weight_fraction_leaf=0.0, presort=False,\n            random_state=1589190063, splitter='best'), DecisionTreeClassifier(class_weight=None, criterion='gini', max_depth=2,\n            max_features='auto', max_leaf_nodes=None,\n            min_impurity_decrease=0.0, min_impurity_split=None,\n            min_samples_leaf=1, min_samples_split=2,\n            min_weight_fraction_leaf=0.0, presort=False,\n            random_state=1589512640, splitter='best'), DecisionTreeClassifier(class_weight=None, criterion='gini', max_depth=2,\n            max_features='auto', max_leaf_nodes=None,\n            min_impurity_decrease=0.0, min_impurity_split=None,\n            min_samples_leaf=1, min_samples_split=2,\n            min_weight_fraction_leaf=0.0, presort=False,\n            random_state=2055650130, splitter='best'), DecisionTreeClassifier(class_weight=None, criterion='gini', max_depth=2,\n            max_features='auto', max_leaf_nodes=None,\n            min_impurity_decrease=0.0, min_impurity_split=None,\n            min_samples_leaf=1, min_samples_split=2,\n            min_weight_fraction_leaf=0.0, presort=False,\n            random_state=2034131043, splitter='best'), DecisionTreeClassifier(class_weight=None, criterion='gini', max_depth=2,\n            max_features='auto', max_leaf_nodes=None,\n            min_impurity_decrease=0.0, min_impurity_split=None,\n            min_samples_leaf=1, min_samples_split=2,\n            min_weight_fraction_leaf=0.0, presort=False,\n            random_state=1284876248, splitter='best'), DecisionTreeClassifier(class_weight=None, criterion='gini', max_depth=2,\n            max_features='auto', max_leaf_nodes=None,\n            min_impurity_decrease=0.0, min_impurity_split=None,\n            min_samples_leaf=1, min_samples_split=2,\n            min_weight_fraction_leaf=0.0, presort=False,\n            random_state=1292401841, splitter='best'), DecisionTreeClassifier(class_weight=None, criterion='gini', max_depth=2,\n            max_features='auto', max_leaf_nodes=None,\n            min_impurity_decrease=0.0, min_impurity_split=None,\n            min_samples_leaf=1, min_samples_split=2,\n            min_weight_fraction_leaf=0.0, presort=False,\n            random_state=1982038771, splitter='best'), DecisionTreeClassifier(class_weight=None, criterion='gini', max_depth=2,\n            max_features='auto', max_leaf_nodes=None,\n            min_impurity_decrease=0.0, min_impurity_split=None,\n            min_samples_leaf=1, min_samples_split=2,\n            min_weight_fraction_leaf=0.0, presort=False,\n            random_state=87950109, splitter='best'), DecisionTreeClassifier(class_weight=None, criterion='gini', max_depth=2,\n            max_features='auto', max_leaf_nodes=None,\n            min_impurity_decrease=0.0, min_impurity_split=None,\n            min_samples_leaf=1, min_samples_split=2,\n            min_weight_fraction_leaf=0.0, presort=False,\n            random_state=1204863635, splitter='best'), DecisionTreeClassifier(class_weight=None, criterion='gini', max_depth=2,\n            max_features='auto', max_leaf_nodes=None,\n            min_impurity_decrease=0.0, min_impurity_split=None,\n            min_samples_leaf=1, min_samples_split=2,\n            min_weight_fraction_leaf=0.0, presort=False,\n            random_state=768281747, splitter='best'), DecisionTreeClassifier(class_weight=None, criterion='gini', max_depth=2,\n            max_features='auto', max_leaf_nodes=None,\n            min_impurity_decrease=0.0, min_impurity_split=None,\n            min_samples_leaf=1, min_samples_split=2,\n            min_weight_fraction_leaf=0.0, presort=False,\n            random_state=507984782, splitter='best'), DecisionTreeClassifier(class_weight=None, criterion='gini', max_depth=2,\n            max_features='auto', max_leaf_nodes=None,\n            min_impurity_decrease=0.0, min_impurity_split=None,\n            min_samples_leaf=1, min_samples_split=2,\n            min_weight_fraction_leaf=0.0, presort=False,\n            random_state=947610023, splitter='best'), DecisionTreeClassifier(class_weight=None, criterion='gini', max_depth=2,\n            max_features='auto', max_leaf_nodes=None,\n            min_impurity_decrease=0.0, min_impurity_split=None,\n            min_samples_leaf=1, min_samples_split=2,\n            min_weight_fraction_leaf=0.0, presort=False,\n            random_state=600956192, splitter='best'), DecisionTreeClassifier(class_weight=None, criterion='gini', max_depth=2,\n            max_features='auto', max_leaf_nodes=None,\n            min_impurity_decrease=0.0, min_impurity_split=None,\n            min_samples_leaf=1, min_samples_split=2,\n            min_weight_fraction_leaf=0.0, presort=False,\n            random_state=352272321, splitter='best'), DecisionTreeClassifier(class_weight=None, criterion='gini', max_depth=2,\n            max_features='auto', max_leaf_nodes=None,\n            min_impurity_decrease=0.0, min_impurity_split=None,\n            min_samples_leaf=1, min_samples_split=2,\n            min_weight_fraction_leaf=0.0, presort=False,\n            random_state=615697673, splitter='best'), DecisionTreeClassifier(class_weight=None, criterion='gini', max_depth=2,\n            max_features='auto', max_leaf_nodes=None,\n            min_impurity_decrease=0.0, min_impurity_split=None,\n            min_samples_leaf=1, min_samples_split=2,\n            min_weight_fraction_leaf=0.0, presort=False,\n            random_state=160516793, splitter='best'), DecisionTreeClassifier(class_weight=None, criterion='gini', max_depth=2,\n            max_features='auto', max_leaf_nodes=None,\n            min_impurity_decrease=0.0, min_impurity_split=None,\n            min_samples_leaf=1, min_samples_split=2,\n            min_weight_fraction_leaf=0.0, presort=False,\n            random_state=1909838463, splitter='best'), DecisionTreeClassifier(class_weight=None, criterion='gini', max_depth=2,\n            max_features='auto', max_leaf_nodes=None,\n            min_impurity_decrease=0.0, min_impurity_split=None,\n            min_samples_leaf=1, min_samples_split=2,\n            min_weight_fraction_leaf=0.0, presort=False,\n            random_state=1110745632, splitter='best'), DecisionTreeClassifier(class_weight=None, criterion='gini', max_depth=2,\n            max_features='auto', max_leaf_nodes=None,\n            min_impurity_decrease=0.0, min_impurity_split=None,\n            min_samples_leaf=1, min_samples_split=2,\n            min_weight_fraction_leaf=0.0, presort=False,\n            random_state=93837855, splitter='best'), DecisionTreeClassifier(class_weight=None, criterion='gini', max_depth=2,\n            max_features='auto', max_leaf_nodes=None,\n            min_impurity_decrease=0.0, min_impurity_split=None,\n            min_samples_leaf=1, min_samples_split=2,\n            min_weight_fraction_leaf=0.0, presort=False,\n            random_state=454869706, splitter='best'), DecisionTreeClassifier(class_weight=None, criterion='gini', max_depth=2,\n            max_features='auto', max_leaf_nodes=None,\n            min_impurity_decrease=0.0, min_impurity_split=None,\n            min_samples_leaf=1, min_samples_split=2,\n            min_weight_fraction_leaf=0.0, presort=False,\n            random_state=1780959476, splitter='best'), DecisionTreeClassifier(class_weight=None, criterion='gini', max_depth=2,\n            max_features='auto', max_leaf_nodes=None,\n            min_impurity_decrease=0.0, min_impurity_split=None,\n            min_samples_leaf=1, min_samples_split=2,\n            min_weight_fraction_leaf=0.0, presort=False,\n            random_state=2034098327, splitter='best'), DecisionTreeClassifier(class_weight=None, criterion='gini', max_depth=2,\n            max_features='auto', max_leaf_nodes=None,\n            min_impurity_decrease=0.0, min_impurity_split=None,\n            min_samples_leaf=1, min_samples_split=2,\n            min_weight_fraction_leaf=0.0, presort=False,\n            random_state=1136257699, splitter='best'), DecisionTreeClassifier(class_weight=None, criterion='gini', max_depth=2,\n            max_features='auto', max_leaf_nodes=None,\n            min_impurity_decrease=0.0, min_impurity_split=None,\n            min_samples_leaf=1, min_samples_split=2,\n            min_weight_fraction_leaf=0.0, presort=False,\n            random_state=800291326, splitter='best'), DecisionTreeClassifier(class_weight=None, criterion='gini', max_depth=2,\n            max_features='auto', max_leaf_nodes=None,\n            min_impurity_decrease=0.0, min_impurity_split=None,\n            min_samples_leaf=1, min_samples_split=2,\n            min_weight_fraction_leaf=0.0, presort=False,\n            random_state=1177824715, splitter='best'), DecisionTreeClassifier(class_weight=None, criterion='gini', max_depth=2,\n            max_features='auto', max_leaf_nodes=None,\n            min_impurity_decrease=0.0, min_impurity_split=None,\n            min_samples_leaf=1, min_samples_split=2,\n            min_weight_fraction_leaf=0.0, presort=False,\n            random_state=1017555826, splitter='best'), DecisionTreeClassifier(class_weight=None, criterion='gini', max_depth=2,\n            max_features='auto', max_leaf_nodes=None,\n            min_impurity_decrease=0.0, min_impurity_split=None,\n            min_samples_leaf=1, min_samples_split=2,\n            min_weight_fraction_leaf=0.0, presort=False,\n            random_state=1959150775, splitter='best'), DecisionTreeClassifier(class_weight=None, criterion='gini', max_depth=2,\n            max_features='auto', max_leaf_nodes=None,\n            min_impurity_decrease=0.0, min_impurity_split=None,\n            min_samples_leaf=1, min_samples_split=2,\n            min_weight_fraction_leaf=0.0, presort=False,\n            random_state=930076700, splitter='best'), DecisionTreeClassifier(class_weight=None, criterion='gini', max_depth=2,\n            max_features='auto', max_leaf_nodes=None,\n            min_impurity_decrease=0.0, min_impurity_split=None,\n            min_samples_leaf=1, min_samples_split=2,\n            min_weight_fraction_leaf=0.0, presort=False,\n            random_state=293921570, splitter='best'), DecisionTreeClassifier(class_weight=None, criterion='gini', max_depth=2,\n            max_features='auto', max_leaf_nodes=None,\n            min_impurity_decrease=0.0, min_impurity_split=None,\n            min_samples_leaf=1, min_samples_split=2,\n            min_weight_fraction_leaf=0.0, presort=False,\n            random_state=580757632, splitter='best'), DecisionTreeClassifier(class_weight=None, criterion='gini', max_depth=2,\n            max_features='auto', max_leaf_nodes=None,\n            min_impurity_decrease=0.0, min_impurity_split=None,\n            min_samples_leaf=1, min_samples_split=2,\n            min_weight_fraction_leaf=0.0, presort=False,\n            random_state=80701568, splitter='best'), DecisionTreeClassifier(class_weight=None, criterion='gini', max_depth=2,\n            max_features='auto', max_leaf_nodes=None,\n            min_impurity_decrease=0.0, min_impurity_split=None,\n            min_samples_leaf=1, min_samples_split=2,\n            min_weight_fraction_leaf=0.0, presort=False,\n            random_state=1392175012, splitter='best'), DecisionTreeClassifier(class_weight=None, criterion='gini', max_depth=2,\n            max_features='auto', max_leaf_nodes=None,\n            min_impurity_decrease=0.0, min_impurity_split=None,\n            min_samples_leaf=1, min_samples_split=2,\n            min_weight_fraction_leaf=0.0, presort=False,\n            random_state=505240629, splitter='best'), DecisionTreeClassifier(class_weight=None, criterion='gini', max_depth=2,\n            max_features='auto', max_leaf_nodes=None,\n            min_impurity_decrease=0.0, min_impurity_split=None,\n            min_samples_leaf=1, min_samples_split=2,\n            min_weight_fraction_leaf=0.0, presort=False,\n            random_state=642848645, splitter='best'), DecisionTreeClassifier(class_weight=None, criterion='gini', max_depth=2,\n            max_features='auto', max_leaf_nodes=None,\n            min_impurity_decrease=0.0, min_impurity_split=None,\n            min_samples_leaf=1, min_samples_split=2,\n            min_weight_fraction_leaf=0.0, presort=False,\n            random_state=481447462, splitter='best'), DecisionTreeClassifier(class_weight=None, criterion='gini', max_depth=2,\n            max_features='auto', max_leaf_nodes=None,\n            min_impurity_decrease=0.0, min_impurity_split=None,\n            min_samples_leaf=1, min_samples_split=2,\n            min_weight_fraction_leaf=0.0, presort=False,\n            random_state=954863080, splitter='best'), DecisionTreeClassifier(class_weight=None, criterion='gini', max_depth=2,\n            max_features='auto', max_leaf_nodes=None,\n            min_impurity_decrease=0.0, min_impurity_split=None,\n            min_samples_leaf=1, min_samples_split=2,\n            min_weight_fraction_leaf=0.0, presort=False,\n            random_state=502227700, splitter='best'), DecisionTreeClassifier(class_weight=None, criterion='gini', max_depth=2,\n            max_features='auto', max_leaf_nodes=None,\n            min_impurity_decrease=0.0, min_impurity_split=None,\n            min_samples_leaf=1, min_samples_split=2,\n            min_weight_fraction_leaf=0.0, presort=False,\n            random_state=1659957521, splitter='best'), DecisionTreeClassifier(class_weight=None, criterion='gini', max_depth=2,\n            max_features='auto', max_leaf_nodes=None,\n            min_impurity_decrease=0.0, min_impurity_split=None,\n            min_samples_leaf=1, min_samples_split=2,\n            min_weight_fraction_leaf=0.0, presort=False,\n            random_state=1905883471, splitter='best'), DecisionTreeClassifier(class_weight=None, criterion='gini', max_depth=2,\n            max_features='auto', max_leaf_nodes=None,\n            min_impurity_decrease=0.0, min_impurity_split=None,\n            min_samples_leaf=1, min_samples_split=2,\n            min_weight_fraction_leaf=0.0, presort=False,\n            random_state=1729147268, splitter='best'), DecisionTreeClassifier(class_weight=None, criterion='gini', max_depth=2,\n            max_features='auto', max_leaf_nodes=None,\n            min_impurity_decrease=0.0, min_impurity_split=None,\n            min_samples_leaf=1, min_samples_split=2,\n            min_weight_fraction_leaf=0.0, presort=False,\n            random_state=780912233, splitter='best'), DecisionTreeClassifier(class_weight=None, criterion='gini', max_depth=2,\n            max_features='auto', max_leaf_nodes=None,\n            min_impurity_decrease=0.0, min_impurity_split=None,\n            min_samples_leaf=1, min_samples_split=2,\n            min_weight_fraction_leaf=0.0, presort=False,\n            random_state=1932520490, splitter='best'), DecisionTreeClassifier(class_weight=None, criterion='gini', max_depth=2,\n            max_features='auto', max_leaf_nodes=None,\n            min_impurity_decrease=0.0, min_impurity_split=None,\n            min_samples_leaf=1, min_samples_split=2,\n            min_weight_fraction_leaf=0.0, presort=False,\n            random_state=1544074682, splitter='best'), DecisionTreeClassifier(class_weight=None, criterion='gini', max_depth=2,\n            max_features='auto', max_leaf_nodes=None,\n            min_impurity_decrease=0.0, min_impurity_split=None,\n            min_samples_leaf=1, min_samples_split=2,\n            min_weight_fraction_leaf=0.0, presort=False,\n            random_state=485603871, splitter='best'), DecisionTreeClassifier(class_weight=None, criterion='gini', max_depth=2,\n            max_features='auto', max_leaf_nodes=None,\n            min_impurity_decrease=0.0, min_impurity_split=None,\n            min_samples_leaf=1, min_samples_split=2,\n            min_weight_fraction_leaf=0.0, presort=False,\n            random_state=1877037944, splitter='best'), DecisionTreeClassifier(class_weight=None, criterion='gini', max_depth=2,\n            max_features='auto', max_leaf_nodes=None,\n            min_impurity_decrease=0.0, min_impurity_split=None,\n            min_samples_leaf=1, min_samples_split=2,\n            min_weight_fraction_leaf=0.0, presort=False,\n            random_state=1728073985, splitter='best'), DecisionTreeClassifier(class_weight=None, criterion='gini', max_depth=2,\n            max_features='auto', max_leaf_nodes=None,\n            min_impurity_decrease=0.0, min_impurity_split=None,\n            min_samples_leaf=1, min_samples_split=2,\n            min_weight_fraction_leaf=0.0, presort=False,\n            random_state=848819521, splitter='best'), DecisionTreeClassifier(class_weight=None, criterion='gini', max_depth=2,\n            max_features='auto', max_leaf_nodes=None,\n            min_impurity_decrease=0.0, min_impurity_split=None,\n            min_samples_leaf=1, min_samples_split=2,\n            min_weight_fraction_leaf=0.0, presort=False,\n            random_state=426405863, splitter='best'), DecisionTreeClassifier(class_weight=None, criterion='gini', max_depth=2,\n            max_features='auto', max_leaf_nodes=None,\n            min_impurity_decrease=0.0, min_impurity_split=None,\n            min_samples_leaf=1, min_samples_split=2,\n            min_weight_fraction_leaf=0.0, presort=False,\n            random_state=258666409, splitter='best'), DecisionTreeClassifier(class_weight=None, criterion='gini', max_depth=2,\n            max_features='auto', max_leaf_nodes=None,\n            min_impurity_decrease=0.0, min_impurity_split=None,\n            min_samples_leaf=1, min_samples_split=2,\n            min_weight_fraction_leaf=0.0, presort=False,\n            random_state=2017814585, splitter='best'), DecisionTreeClassifier(class_weight=None, criterion='gini', max_depth=2,\n            max_features='auto', max_leaf_nodes=None,\n            min_impurity_decrease=0.0, min_impurity_split=None,\n            min_samples_leaf=1, min_samples_split=2,\n            min_weight_fraction_leaf=0.0, presort=False,\n            random_state=716257571, splitter='best'), DecisionTreeClassifier(class_weight=None, criterion='gini', max_depth=2,\n            max_features='auto', max_leaf_nodes=None,\n            min_impurity_decrease=0.0, min_impurity_split=None,\n            min_samples_leaf=1, min_samples_split=2,\n            min_weight_fraction_leaf=0.0, presort=False,\n            random_state=657731430, splitter='best'), DecisionTreeClassifier(class_weight=None, criterion='gini', max_depth=2,\n            max_features='auto', max_leaf_nodes=None,\n            min_impurity_decrease=0.0, min_impurity_split=None,\n            min_samples_leaf=1, min_samples_split=2,\n            min_weight_fraction_leaf=0.0, presort=False,\n            random_state=732884087, splitter='best'), DecisionTreeClassifier(class_weight=None, criterion='gini', max_depth=2,\n            max_features='auto', max_leaf_nodes=None,\n            min_impurity_decrease=0.0, min_impurity_split=None,\n            min_samples_leaf=1, min_samples_split=2,\n            min_weight_fraction_leaf=0.0, presort=False,\n            random_state=734051083, splitter='best'), DecisionTreeClassifier(class_weight=None, criterion='gini', max_depth=2,\n            max_features='auto', max_leaf_nodes=None,\n            min_impurity_decrease=0.0, min_impurity_split=None,\n            min_samples_leaf=1, min_samples_split=2,\n            min_weight_fraction_leaf=0.0, presort=False,\n            random_state=903586222, splitter='best'), DecisionTreeClassifier(class_weight=None, criterion='gini', max_depth=2,\n            max_features='auto', max_leaf_nodes=None,\n            min_impurity_decrease=0.0, min_impurity_split=None,\n            min_samples_leaf=1, min_samples_split=2,\n            min_weight_fraction_leaf=0.0, presort=False,\n            random_state=1538251858, splitter='best'), DecisionTreeClassifier(class_weight=None, criterion='gini', max_depth=2,\n            max_features='auto', max_leaf_nodes=None,\n            min_impurity_decrease=0.0, min_impurity_split=None,\n            min_samples_leaf=1, min_samples_split=2,\n            min_weight_fraction_leaf=0.0, presort=False,\n            random_state=553734235, splitter='best'), DecisionTreeClassifier(class_weight=None, criterion='gini', max_depth=2,\n            max_features='auto', max_leaf_nodes=None,\n            min_impurity_decrease=0.0, min_impurity_split=None,\n            min_samples_leaf=1, min_samples_split=2,\n            min_weight_fraction_leaf=0.0, presort=False,\n            random_state=1076688768, splitter='best'), DecisionTreeClassifier(class_weight=None, criterion='gini', max_depth=2,\n            max_features='auto', max_leaf_nodes=None,\n            min_impurity_decrease=0.0, min_impurity_split=None,\n            min_samples_leaf=1, min_samples_split=2,\n            min_weight_fraction_leaf=0.0, presort=False,\n            random_state=1354754446, splitter='best'), DecisionTreeClassifier(class_weight=None, criterion='gini', max_depth=2,\n            max_features='auto', max_leaf_nodes=None,\n            min_impurity_decrease=0.0, min_impurity_split=None,\n            min_samples_leaf=1, min_samples_split=2,\n            min_weight_fraction_leaf=0.0, presort=False,\n            random_state=463129187, splitter='best'), DecisionTreeClassifier(class_weight=None, criterion='gini', max_depth=2,\n            max_features='auto', max_leaf_nodes=None,\n            min_impurity_decrease=0.0, min_impurity_split=None,\n            min_samples_leaf=1, min_samples_split=2,\n            min_weight_fraction_leaf=0.0, presort=False,\n            random_state=1562125877, splitter='best'), DecisionTreeClassifier(class_weight=None, criterion='gini', max_depth=2,\n            max_features='auto', max_leaf_nodes=None,\n            min_impurity_decrease=0.0, min_impurity_split=None,\n            min_samples_leaf=1, min_samples_split=2,\n            min_weight_fraction_leaf=0.0, presort=False,\n            random_state=1396067212, splitter='best')] is not an estimator instance.",
     "output_type": "error",
     "traceback": [
      "\u001b[0;31m---------------------------------------------------------------------------\u001b[0m",
      "\u001b[0;31mTypeError\u001b[0m                                 Traceback (most recent call last)",
      "\u001b[0;32m<ipython-input-82-ee5441916c65>\u001b[0m in \u001b[0;36m<module>\u001b[0;34m()\u001b[0m\n\u001b[1;32m      2\u001b[0m                 \u001b[0mclass_names\u001b[0m \u001b[0;34m=\u001b[0m \u001b[0mX\u001b[0m\u001b[0;34m.\u001b[0m\u001b[0mcolumns\u001b[0m\u001b[0;34m,\u001b[0m\u001b[0;34m\u001b[0m\u001b[0m\n\u001b[1;32m      3\u001b[0m                 \u001b[0mrounded\u001b[0m \u001b[0;34m=\u001b[0m \u001b[0;32mTrue\u001b[0m\u001b[0;34m,\u001b[0m \u001b[0mproportion\u001b[0m \u001b[0;34m=\u001b[0m \u001b[0;32mFalse\u001b[0m\u001b[0;34m,\u001b[0m\u001b[0;34m\u001b[0m\u001b[0m\n\u001b[0;32m----> 4\u001b[0;31m                 precision = 1, filled = True) \n\u001b[0m\u001b[1;32m      5\u001b[0m \u001b[0;34m\u001b[0m\u001b[0m\n\u001b[1;32m      6\u001b[0m \u001b[0mprint\u001b[0m\u001b[0;34m(\u001b[0m\u001b[0mt\u001b[0m\u001b[0;34m)\u001b[0m\u001b[0;34m\u001b[0m\u001b[0m\n",
      "\u001b[0;32m/Applications/anaconda3/lib/python3.6/site-packages/sklearn/tree/export.py\u001b[0m in \u001b[0;36mexport_graphviz\u001b[0;34m(decision_tree, out_file, max_depth, feature_names, class_names, label, filled, leaves_parallel, impurity, node_ids, proportion, rotate, rounded, special_characters, precision)\u001b[0m\n\u001b[1;32m    390\u001b[0m                 \u001b[0mout_file\u001b[0m\u001b[0;34m.\u001b[0m\u001b[0mwrite\u001b[0m\u001b[0;34m(\u001b[0m\u001b[0;34m'%d -> %d ;\\n'\u001b[0m \u001b[0;34m%\u001b[0m \u001b[0;34m(\u001b[0m\u001b[0mparent\u001b[0m\u001b[0;34m,\u001b[0m \u001b[0mnode_id\u001b[0m\u001b[0;34m)\u001b[0m\u001b[0;34m)\u001b[0m\u001b[0;34m\u001b[0m\u001b[0m\n\u001b[1;32m    391\u001b[0m \u001b[0;34m\u001b[0m\u001b[0m\n\u001b[0;32m--> 392\u001b[0;31m     \u001b[0mcheck_is_fitted\u001b[0m\u001b[0;34m(\u001b[0m\u001b[0mdecision_tree\u001b[0m\u001b[0;34m,\u001b[0m \u001b[0;34m'tree_'\u001b[0m\u001b[0;34m)\u001b[0m\u001b[0;34m\u001b[0m\u001b[0m\n\u001b[0m\u001b[1;32m    393\u001b[0m     \u001b[0mown_file\u001b[0m \u001b[0;34m=\u001b[0m \u001b[0;32mFalse\u001b[0m\u001b[0;34m\u001b[0m\u001b[0m\n\u001b[1;32m    394\u001b[0m     \u001b[0mreturn_string\u001b[0m \u001b[0;34m=\u001b[0m \u001b[0;32mFalse\u001b[0m\u001b[0;34m\u001b[0m\u001b[0m\n",
      "\u001b[0;32m/Applications/anaconda3/lib/python3.6/site-packages/sklearn/utils/validation.py\u001b[0m in \u001b[0;36mcheck_is_fitted\u001b[0;34m(estimator, attributes, msg, all_or_any)\u001b[0m\n\u001b[1;32m    760\u001b[0m \u001b[0;34m\u001b[0m\u001b[0m\n\u001b[1;32m    761\u001b[0m     \u001b[0;32mif\u001b[0m \u001b[0;32mnot\u001b[0m \u001b[0mhasattr\u001b[0m\u001b[0;34m(\u001b[0m\u001b[0mestimator\u001b[0m\u001b[0;34m,\u001b[0m \u001b[0;34m'fit'\u001b[0m\u001b[0;34m)\u001b[0m\u001b[0;34m:\u001b[0m\u001b[0;34m\u001b[0m\u001b[0m\n\u001b[0;32m--> 762\u001b[0;31m         \u001b[0;32mraise\u001b[0m \u001b[0mTypeError\u001b[0m\u001b[0;34m(\u001b[0m\u001b[0;34m\"%s is not an estimator instance.\"\u001b[0m \u001b[0;34m%\u001b[0m \u001b[0;34m(\u001b[0m\u001b[0mestimator\u001b[0m\u001b[0;34m)\u001b[0m\u001b[0;34m)\u001b[0m\u001b[0;34m\u001b[0m\u001b[0m\n\u001b[0m\u001b[1;32m    763\u001b[0m \u001b[0;34m\u001b[0m\u001b[0m\n\u001b[1;32m    764\u001b[0m     \u001b[0;32mif\u001b[0m \u001b[0;32mnot\u001b[0m \u001b[0misinstance\u001b[0m\u001b[0;34m(\u001b[0m\u001b[0mattributes\u001b[0m\u001b[0;34m,\u001b[0m \u001b[0;34m(\u001b[0m\u001b[0mlist\u001b[0m\u001b[0;34m,\u001b[0m \u001b[0mtuple\u001b[0m\u001b[0;34m)\u001b[0m\u001b[0;34m)\u001b[0m\u001b[0;34m:\u001b[0m\u001b[0;34m\u001b[0m\u001b[0m\n",
      "\u001b[0;31mTypeError\u001b[0m: [DecisionTreeClassifier(class_weight=None, criterion='gini', max_depth=2,\n            max_features='auto', max_leaf_nodes=None,\n            min_impurity_decrease=0.0, min_impurity_split=None,\n            min_samples_leaf=1, min_samples_split=2,\n            min_weight_fraction_leaf=0.0, presort=False,\n            random_state=209652396, splitter='best'), DecisionTreeClassifier(class_weight=None, criterion='gini', max_depth=2,\n            max_features='auto', max_leaf_nodes=None,\n            min_impurity_decrease=0.0, min_impurity_split=None,\n            min_samples_leaf=1, min_samples_split=2,\n            min_weight_fraction_leaf=0.0, presort=False,\n            random_state=398764591, splitter='best'), DecisionTreeClassifier(class_weight=None, criterion='gini', max_depth=2,\n            max_features='auto', max_leaf_nodes=None,\n            min_impurity_decrease=0.0, min_impurity_split=None,\n            min_samples_leaf=1, min_samples_split=2,\n            min_weight_fraction_leaf=0.0, presort=False,\n            random_state=924231285, splitter='best'), DecisionTreeClassifier(class_weight=None, criterion='gini', max_depth=2,\n            max_features='auto', max_leaf_nodes=None,\n            min_impurity_decrease=0.0, min_impurity_split=None,\n            min_samples_leaf=1, min_samples_split=2,\n            min_weight_fraction_leaf=0.0, presort=False,\n            random_state=1478610112, splitter='best'), DecisionTreeClassifier(class_weight=None, criterion='gini', max_depth=2,\n            max_features='auto', max_leaf_nodes=None,\n            min_impurity_decrease=0.0, min_impurity_split=None,\n            min_samples_leaf=1, min_samples_split=2,\n            min_weight_fraction_leaf=0.0, presort=False,\n            random_state=441365315, splitter='best'), DecisionTreeClassifier(class_weight=None, criterion='gini', max_depth=2,\n            max_features='auto', max_leaf_nodes=None,\n            min_impurity_decrease=0.0, min_impurity_split=None,\n            min_samples_leaf=1, min_samples_split=2,\n            min_weight_fraction_leaf=0.0, presort=False,\n            random_state=1537364731, splitter='best'), DecisionTreeClassifier(class_weight=None, criterion='gini', max_depth=2,\n            max_features='auto', max_leaf_nodes=None,\n            min_impurity_decrease=0.0, min_impurity_split=None,\n            min_samples_leaf=1, min_samples_split=2,\n            min_weight_fraction_leaf=0.0, presort=False,\n            random_state=192771779, splitter='best'), DecisionTreeClassifier(class_weight=None, criterion='gini', max_depth=2,\n            max_features='auto', max_leaf_nodes=None,\n            min_impurity_decrease=0.0, min_impurity_split=None,\n            min_samples_leaf=1, min_samples_split=2,\n            min_weight_fraction_leaf=0.0, presort=False,\n            random_state=1491434855, splitter='best'), DecisionTreeClassifier(class_weight=None, criterion='gini', max_depth=2,\n            max_features='auto', max_leaf_nodes=None,\n            min_impurity_decrease=0.0, min_impurity_split=None,\n            min_samples_leaf=1, min_samples_split=2,\n            min_weight_fraction_leaf=0.0, presort=False,\n            random_state=1819583497, splitter='best'), DecisionTreeClassifier(class_weight=None, criterion='gini', max_depth=2,\n            max_features='auto', max_leaf_nodes=None,\n            min_impurity_decrease=0.0, min_impurity_split=None,\n            min_samples_leaf=1, min_samples_split=2,\n            min_weight_fraction_leaf=0.0, presort=False,\n            random_state=530702035, splitter='best'), DecisionTreeClassifier(class_weight=None, criterion='gini', max_depth=2,\n            max_features='auto', max_leaf_nodes=None,\n            min_impurity_decrease=0.0, min_impurity_split=None,\n            min_samples_leaf=1, min_samples_split=2,\n            min_weight_fraction_leaf=0.0, presort=False,\n            random_state=626610453, splitter='best'), DecisionTreeClassifier(class_weight=None, criterion='gini', max_depth=2,\n            max_features='auto', max_leaf_nodes=None,\n            min_impurity_decrease=0.0, min_impurity_split=None,\n            min_samples_leaf=1, min_samples_split=2,\n            min_weight_fraction_leaf=0.0, presort=False,\n            random_state=1650906866, splitter='best'), DecisionTreeClassifier(class_weight=None, criterion='gini', max_depth=2,\n            max_features='auto', max_leaf_nodes=None,\n            min_impurity_decrease=0.0, min_impurity_split=None,\n            min_samples_leaf=1, min_samples_split=2,\n            min_weight_fraction_leaf=0.0, presort=False,\n            random_state=1879422756, splitter='best'), DecisionTreeClassifier(class_weight=None, criterion='gini', max_depth=2,\n            max_features='auto', max_leaf_nodes=None,\n            min_impurity_decrease=0.0, min_impurity_split=None,\n            min_samples_leaf=1, min_samples_split=2,\n            min_weight_fraction_leaf=0.0, presort=False,\n            random_state=1277901399, splitter='best'), DecisionTreeClassifier(class_weight=None, criterion='gini', max_depth=2,\n            max_features='auto', max_leaf_nodes=None,\n            min_impurity_decrease=0.0, min_impurity_split=None,\n            min_samples_leaf=1, min_samples_split=2,\n            min_weight_fraction_leaf=0.0, presort=False,\n            random_state=1682652230, splitter='best'), DecisionTreeClassifier(class_weight=None, criterion='gini', max_depth=2,\n            max_features='auto', max_leaf_nodes=None,\n            min_impurity_decrease=0.0, min_impurity_split=None,\n            min_samples_leaf=1, min_samples_split=2,\n            min_weight_fraction_leaf=0.0, presort=False,\n            random_state=243580376, splitter='best'), DecisionTreeClassifier(class_weight=None, criterion='gini', max_depth=2,\n            max_features='auto', max_leaf_nodes=None,\n            min_impurity_decrease=0.0, min_impurity_split=None,\n            min_samples_leaf=1, min_samples_split=2,\n            min_weight_fraction_leaf=0.0, presort=False,\n            random_state=1991416408, splitter='best'), DecisionTreeClassifier(class_weight=None, criterion='gini', max_depth=2,\n            max_features='auto', max_leaf_nodes=None,\n            min_impurity_decrease=0.0, min_impurity_split=None,\n            min_samples_leaf=1, min_samples_split=2,\n            min_weight_fraction_leaf=0.0, presort=False,\n            random_state=1171049868, splitter='best'), DecisionTreeClassifier(class_weight=None, criterion='gini', max_depth=2,\n            max_features='auto', max_leaf_nodes=None,\n            min_impurity_decrease=0.0, min_impurity_split=None,\n            min_samples_leaf=1, min_samples_split=2,\n            min_weight_fraction_leaf=0.0, presort=False,\n            random_state=1646868794, splitter='best'), DecisionTreeClassifier(class_weight=None, criterion='gini', max_depth=2,\n            max_features='auto', max_leaf_nodes=None,\n            min_impurity_decrease=0.0, min_impurity_split=None,\n            min_samples_leaf=1, min_samples_split=2,\n            min_weight_fraction_leaf=0.0, presort=False,\n            random_state=2051556033, splitter='best'), DecisionTreeClassifier(class_weight=None, criterion='gini', max_depth=2,\n            max_features='auto', max_leaf_nodes=None,\n            min_impurity_decrease=0.0, min_impurity_split=None,\n            min_samples_leaf=1, min_samples_split=2,\n            min_weight_fraction_leaf=0.0, presort=False,\n            random_state=1252949478, splitter='best'), DecisionTreeClassifier(class_weight=None, criterion='gini', max_depth=2,\n            max_features='auto', max_leaf_nodes=None,\n            min_impurity_decrease=0.0, min_impurity_split=None,\n            min_samples_leaf=1, min_samples_split=2,\n            min_weight_fraction_leaf=0.0, presort=False,\n            random_state=1340754471, splitter='best'), DecisionTreeClassifier(class_weight=None, criterion='gini', max_depth=2,\n            max_features='auto', max_leaf_nodes=None,\n            min_impurity_decrease=0.0, min_impurity_split=None,\n            min_samples_leaf=1, min_samples_split=2,\n            min_weight_fraction_leaf=0.0, presort=False,\n            random_state=124102743, splitter='best'), DecisionTreeClassifier(class_weight=None, criterion='gini', max_depth=2,\n            max_features='auto', max_leaf_nodes=None,\n            min_impurity_decrease=0.0, min_impurity_split=None,\n            min_samples_leaf=1, min_samples_split=2,\n            min_weight_fraction_leaf=0.0, presort=False,\n            random_state=2061486254, splitter='best'), DecisionTreeClassifier(class_weight=None, criterion='gini', max_depth=2,\n            max_features='auto', max_leaf_nodes=None,\n            min_impurity_decrease=0.0, min_impurity_split=None,\n            min_samples_leaf=1, min_samples_split=2,\n            min_weight_fraction_leaf=0.0, presort=False,\n            random_state=292249176, splitter='best'), DecisionTreeClassifier(class_weight=None, criterion='gini', max_depth=2,\n            max_features='auto', max_leaf_nodes=None,\n            min_impurity_decrease=0.0, min_impurity_split=None,\n            min_samples_leaf=1, min_samples_split=2,\n            min_weight_fraction_leaf=0.0, presort=False,\n            random_state=1686997841, splitter='best'), DecisionTreeClassifier(class_weight=None, criterion='gini', max_depth=2,\n            max_features='auto', max_leaf_nodes=None,\n            min_impurity_decrease=0.0, min_impurity_split=None,\n            min_samples_leaf=1, min_samples_split=2,\n            min_weight_fraction_leaf=0.0, presort=False,\n            random_state=1827923621, splitter='best'), DecisionTreeClassifier(class_weight=None, criterion='gini', max_depth=2,\n            max_features='auto', max_leaf_nodes=None,\n            min_impurity_decrease=0.0, min_impurity_split=None,\n            min_samples_leaf=1, min_samples_split=2,\n            min_weight_fraction_leaf=0.0, presort=False,\n            random_state=1443447321, splitter='best'), DecisionTreeClassifier(class_weight=None, criterion='gini', max_depth=2,\n            max_features='auto', max_leaf_nodes=None,\n            min_impurity_decrease=0.0, min_impurity_split=None,\n            min_samples_leaf=1, min_samples_split=2,\n            min_weight_fraction_leaf=0.0, presort=False,\n            random_state=305097549, splitter='best'), DecisionTreeClassifier(class_weight=None, criterion='gini', max_depth=2,\n            max_features='auto', max_leaf_nodes=None,\n            min_impurity_decrease=0.0, min_impurity_split=None,\n            min_samples_leaf=1, min_samples_split=2,\n            min_weight_fraction_leaf=0.0, presort=False,\n            random_state=1449105480, splitter='best'), DecisionTreeClassifier(class_weight=None, criterion='gini', max_depth=2,\n            max_features='auto', max_leaf_nodes=None,\n            min_impurity_decrease=0.0, min_impurity_split=None,\n            min_samples_leaf=1, min_samples_split=2,\n            min_weight_fraction_leaf=0.0, presort=False,\n            random_state=374217481, splitter='best'), DecisionTreeClassifier(class_weight=None, criterion='gini', max_depth=2,\n            max_features='auto', max_leaf_nodes=None,\n            min_impurity_decrease=0.0, min_impurity_split=None,\n            min_samples_leaf=1, min_samples_split=2,\n            min_weight_fraction_leaf=0.0, presort=False,\n            random_state=636393364, splitter='best'), DecisionTreeClassifier(class_weight=None, criterion='gini', max_depth=2,\n            max_features='auto', max_leaf_nodes=None,\n            min_impurity_decrease=0.0, min_impurity_split=None,\n            min_samples_leaf=1, min_samples_split=2,\n            min_weight_fraction_leaf=0.0, presort=False,\n            random_state=86837363, splitter='best'), DecisionTreeClassifier(class_weight=None, criterion='gini', max_depth=2,\n            max_features='auto', max_leaf_nodes=None,\n            min_impurity_decrease=0.0, min_impurity_split=None,\n            min_samples_leaf=1, min_samples_split=2,\n            min_weight_fraction_leaf=0.0, presort=False,\n            random_state=1581585360, splitter='best'), DecisionTreeClassifier(class_weight=None, criterion='gini', max_depth=2,\n            max_features='auto', max_leaf_nodes=None,\n            min_impurity_decrease=0.0, min_impurity_split=None,\n            min_samples_leaf=1, min_samples_split=2,\n            min_weight_fraction_leaf=0.0, presort=False,\n            random_state=1428591347, splitter='best'), DecisionTreeClassifier(class_weight=None, criterion='gini', max_depth=2,\n            max_features='auto', max_leaf_nodes=None,\n            min_impurity_decrease=0.0, min_impurity_split=None,\n            min_samples_leaf=1, min_samples_split=2,\n            min_weight_fraction_leaf=0.0, presort=False,\n            random_state=1963466437, splitter='best'), DecisionTreeClassifier(class_weight=None, criterion='gini', max_depth=2,\n            max_features='auto', max_leaf_nodes=None,\n            min_impurity_decrease=0.0, min_impurity_split=None,\n            min_samples_leaf=1, min_samples_split=2,\n            min_weight_fraction_leaf=0.0, presort=False,\n            random_state=1194674174, splitter='best'), DecisionTreeClassifier(class_weight=None, criterion='gini', max_depth=2,\n            max_features='auto', max_leaf_nodes=None,\n            min_impurity_decrease=0.0, min_impurity_split=None,\n            min_samples_leaf=1, min_samples_split=2,\n            min_weight_fraction_leaf=0.0, presort=False,\n            random_state=602801999, splitter='best'), DecisionTreeClassifier(class_weight=None, criterion='gini', max_depth=2,\n            max_features='auto', max_leaf_nodes=None,\n            min_impurity_decrease=0.0, min_impurity_split=None,\n            min_samples_leaf=1, min_samples_split=2,\n            min_weight_fraction_leaf=0.0, presort=False,\n            random_state=1589190063, splitter='best'), DecisionTreeClassifier(class_weight=None, criterion='gini', max_depth=2,\n            max_features='auto', max_leaf_nodes=None,\n            min_impurity_decrease=0.0, min_impurity_split=None,\n            min_samples_leaf=1, min_samples_split=2,\n            min_weight_fraction_leaf=0.0, presort=False,\n            random_state=1589512640, splitter='best'), DecisionTreeClassifier(class_weight=None, criterion='gini', max_depth=2,\n            max_features='auto', max_leaf_nodes=None,\n            min_impurity_decrease=0.0, min_impurity_split=None,\n            min_samples_leaf=1, min_samples_split=2,\n            min_weight_fraction_leaf=0.0, presort=False,\n            random_state=2055650130, splitter='best'), DecisionTreeClassifier(class_weight=None, criterion='gini', max_depth=2,\n            max_features='auto', max_leaf_nodes=None,\n            min_impurity_decrease=0.0, min_impurity_split=None,\n            min_samples_leaf=1, min_samples_split=2,\n            min_weight_fraction_leaf=0.0, presort=False,\n            random_state=2034131043, splitter='best'), DecisionTreeClassifier(class_weight=None, criterion='gini', max_depth=2,\n            max_features='auto', max_leaf_nodes=None,\n            min_impurity_decrease=0.0, min_impurity_split=None,\n            min_samples_leaf=1, min_samples_split=2,\n            min_weight_fraction_leaf=0.0, presort=False,\n            random_state=1284876248, splitter='best'), DecisionTreeClassifier(class_weight=None, criterion='gini', max_depth=2,\n            max_features='auto', max_leaf_nodes=None,\n            min_impurity_decrease=0.0, min_impurity_split=None,\n            min_samples_leaf=1, min_samples_split=2,\n            min_weight_fraction_leaf=0.0, presort=False,\n            random_state=1292401841, splitter='best'), DecisionTreeClassifier(class_weight=None, criterion='gini', max_depth=2,\n            max_features='auto', max_leaf_nodes=None,\n            min_impurity_decrease=0.0, min_impurity_split=None,\n            min_samples_leaf=1, min_samples_split=2,\n            min_weight_fraction_leaf=0.0, presort=False,\n            random_state=1982038771, splitter='best'), DecisionTreeClassifier(class_weight=None, criterion='gini', max_depth=2,\n            max_features='auto', max_leaf_nodes=None,\n            min_impurity_decrease=0.0, min_impurity_split=None,\n            min_samples_leaf=1, min_samples_split=2,\n            min_weight_fraction_leaf=0.0, presort=False,\n            random_state=87950109, splitter='best'), DecisionTreeClassifier(class_weight=None, criterion='gini', max_depth=2,\n            max_features='auto', max_leaf_nodes=None,\n            min_impurity_decrease=0.0, min_impurity_split=None,\n            min_samples_leaf=1, min_samples_split=2,\n            min_weight_fraction_leaf=0.0, presort=False,\n            random_state=1204863635, splitter='best'), DecisionTreeClassifier(class_weight=None, criterion='gini', max_depth=2,\n            max_features='auto', max_leaf_nodes=None,\n            min_impurity_decrease=0.0, min_impurity_split=None,\n            min_samples_leaf=1, min_samples_split=2,\n            min_weight_fraction_leaf=0.0, presort=False,\n            random_state=768281747, splitter='best'), DecisionTreeClassifier(class_weight=None, criterion='gini', max_depth=2,\n            max_features='auto', max_leaf_nodes=None,\n            min_impurity_decrease=0.0, min_impurity_split=None,\n            min_samples_leaf=1, min_samples_split=2,\n            min_weight_fraction_leaf=0.0, presort=False,\n            random_state=507984782, splitter='best'), DecisionTreeClassifier(class_weight=None, criterion='gini', max_depth=2,\n            max_features='auto', max_leaf_nodes=None,\n            min_impurity_decrease=0.0, min_impurity_split=None,\n            min_samples_leaf=1, min_samples_split=2,\n            min_weight_fraction_leaf=0.0, presort=False,\n            random_state=947610023, splitter='best'), DecisionTreeClassifier(class_weight=None, criterion='gini', max_depth=2,\n            max_features='auto', max_leaf_nodes=None,\n            min_impurity_decrease=0.0, min_impurity_split=None,\n            min_samples_leaf=1, min_samples_split=2,\n            min_weight_fraction_leaf=0.0, presort=False,\n            random_state=600956192, splitter='best'), DecisionTreeClassifier(class_weight=None, criterion='gini', max_depth=2,\n            max_features='auto', max_leaf_nodes=None,\n            min_impurity_decrease=0.0, min_impurity_split=None,\n            min_samples_leaf=1, min_samples_split=2,\n            min_weight_fraction_leaf=0.0, presort=False,\n            random_state=352272321, splitter='best'), DecisionTreeClassifier(class_weight=None, criterion='gini', max_depth=2,\n            max_features='auto', max_leaf_nodes=None,\n            min_impurity_decrease=0.0, min_impurity_split=None,\n            min_samples_leaf=1, min_samples_split=2,\n            min_weight_fraction_leaf=0.0, presort=False,\n            random_state=615697673, splitter='best'), DecisionTreeClassifier(class_weight=None, criterion='gini', max_depth=2,\n            max_features='auto', max_leaf_nodes=None,\n            min_impurity_decrease=0.0, min_impurity_split=None,\n            min_samples_leaf=1, min_samples_split=2,\n            min_weight_fraction_leaf=0.0, presort=False,\n            random_state=160516793, splitter='best'), DecisionTreeClassifier(class_weight=None, criterion='gini', max_depth=2,\n            max_features='auto', max_leaf_nodes=None,\n            min_impurity_decrease=0.0, min_impurity_split=None,\n            min_samples_leaf=1, min_samples_split=2,\n            min_weight_fraction_leaf=0.0, presort=False,\n            random_state=1909838463, splitter='best'), DecisionTreeClassifier(class_weight=None, criterion='gini', max_depth=2,\n            max_features='auto', max_leaf_nodes=None,\n            min_impurity_decrease=0.0, min_impurity_split=None,\n            min_samples_leaf=1, min_samples_split=2,\n            min_weight_fraction_leaf=0.0, presort=False,\n            random_state=1110745632, splitter='best'), DecisionTreeClassifier(class_weight=None, criterion='gini', max_depth=2,\n            max_features='auto', max_leaf_nodes=None,\n            min_impurity_decrease=0.0, min_impurity_split=None,\n            min_samples_leaf=1, min_samples_split=2,\n            min_weight_fraction_leaf=0.0, presort=False,\n            random_state=93837855, splitter='best'), DecisionTreeClassifier(class_weight=None, criterion='gini', max_depth=2,\n            max_features='auto', max_leaf_nodes=None,\n            min_impurity_decrease=0.0, min_impurity_split=None,\n            min_samples_leaf=1, min_samples_split=2,\n            min_weight_fraction_leaf=0.0, presort=False,\n            random_state=454869706, splitter='best'), DecisionTreeClassifier(class_weight=None, criterion='gini', max_depth=2,\n            max_features='auto', max_leaf_nodes=None,\n            min_impurity_decrease=0.0, min_impurity_split=None,\n            min_samples_leaf=1, min_samples_split=2,\n            min_weight_fraction_leaf=0.0, presort=False,\n            random_state=1780959476, splitter='best'), DecisionTreeClassifier(class_weight=None, criterion='gini', max_depth=2,\n            max_features='auto', max_leaf_nodes=None,\n            min_impurity_decrease=0.0, min_impurity_split=None,\n            min_samples_leaf=1, min_samples_split=2,\n            min_weight_fraction_leaf=0.0, presort=False,\n            random_state=2034098327, splitter='best'), DecisionTreeClassifier(class_weight=None, criterion='gini', max_depth=2,\n            max_features='auto', max_leaf_nodes=None,\n            min_impurity_decrease=0.0, min_impurity_split=None,\n            min_samples_leaf=1, min_samples_split=2,\n            min_weight_fraction_leaf=0.0, presort=False,\n            random_state=1136257699, splitter='best'), DecisionTreeClassifier(class_weight=None, criterion='gini', max_depth=2,\n            max_features='auto', max_leaf_nodes=None,\n            min_impurity_decrease=0.0, min_impurity_split=None,\n            min_samples_leaf=1, min_samples_split=2,\n            min_weight_fraction_leaf=0.0, presort=False,\n            random_state=800291326, splitter='best'), DecisionTreeClassifier(class_weight=None, criterion='gini', max_depth=2,\n            max_features='auto', max_leaf_nodes=None,\n            min_impurity_decrease=0.0, min_impurity_split=None,\n            min_samples_leaf=1, min_samples_split=2,\n            min_weight_fraction_leaf=0.0, presort=False,\n            random_state=1177824715, splitter='best'), DecisionTreeClassifier(class_weight=None, criterion='gini', max_depth=2,\n            max_features='auto', max_leaf_nodes=None,\n            min_impurity_decrease=0.0, min_impurity_split=None,\n            min_samples_leaf=1, min_samples_split=2,\n            min_weight_fraction_leaf=0.0, presort=False,\n            random_state=1017555826, splitter='best'), DecisionTreeClassifier(class_weight=None, criterion='gini', max_depth=2,\n            max_features='auto', max_leaf_nodes=None,\n            min_impurity_decrease=0.0, min_impurity_split=None,\n            min_samples_leaf=1, min_samples_split=2,\n            min_weight_fraction_leaf=0.0, presort=False,\n            random_state=1959150775, splitter='best'), DecisionTreeClassifier(class_weight=None, criterion='gini', max_depth=2,\n            max_features='auto', max_leaf_nodes=None,\n            min_impurity_decrease=0.0, min_impurity_split=None,\n            min_samples_leaf=1, min_samples_split=2,\n            min_weight_fraction_leaf=0.0, presort=False,\n            random_state=930076700, splitter='best'), DecisionTreeClassifier(class_weight=None, criterion='gini', max_depth=2,\n            max_features='auto', max_leaf_nodes=None,\n            min_impurity_decrease=0.0, min_impurity_split=None,\n            min_samples_leaf=1, min_samples_split=2,\n            min_weight_fraction_leaf=0.0, presort=False,\n            random_state=293921570, splitter='best'), DecisionTreeClassifier(class_weight=None, criterion='gini', max_depth=2,\n            max_features='auto', max_leaf_nodes=None,\n            min_impurity_decrease=0.0, min_impurity_split=None,\n            min_samples_leaf=1, min_samples_split=2,\n            min_weight_fraction_leaf=0.0, presort=False,\n            random_state=580757632, splitter='best'), DecisionTreeClassifier(class_weight=None, criterion='gini', max_depth=2,\n            max_features='auto', max_leaf_nodes=None,\n            min_impurity_decrease=0.0, min_impurity_split=None,\n            min_samples_leaf=1, min_samples_split=2,\n            min_weight_fraction_leaf=0.0, presort=False,\n            random_state=80701568, splitter='best'), DecisionTreeClassifier(class_weight=None, criterion='gini', max_depth=2,\n            max_features='auto', max_leaf_nodes=None,\n            min_impurity_decrease=0.0, min_impurity_split=None,\n            min_samples_leaf=1, min_samples_split=2,\n            min_weight_fraction_leaf=0.0, presort=False,\n            random_state=1392175012, splitter='best'), DecisionTreeClassifier(class_weight=None, criterion='gini', max_depth=2,\n            max_features='auto', max_leaf_nodes=None,\n            min_impurity_decrease=0.0, min_impurity_split=None,\n            min_samples_leaf=1, min_samples_split=2,\n            min_weight_fraction_leaf=0.0, presort=False,\n            random_state=505240629, splitter='best'), DecisionTreeClassifier(class_weight=None, criterion='gini', max_depth=2,\n            max_features='auto', max_leaf_nodes=None,\n            min_impurity_decrease=0.0, min_impurity_split=None,\n            min_samples_leaf=1, min_samples_split=2,\n            min_weight_fraction_leaf=0.0, presort=False,\n            random_state=642848645, splitter='best'), DecisionTreeClassifier(class_weight=None, criterion='gini', max_depth=2,\n            max_features='auto', max_leaf_nodes=None,\n            min_impurity_decrease=0.0, min_impurity_split=None,\n            min_samples_leaf=1, min_samples_split=2,\n            min_weight_fraction_leaf=0.0, presort=False,\n            random_state=481447462, splitter='best'), DecisionTreeClassifier(class_weight=None, criterion='gini', max_depth=2,\n            max_features='auto', max_leaf_nodes=None,\n            min_impurity_decrease=0.0, min_impurity_split=None,\n            min_samples_leaf=1, min_samples_split=2,\n            min_weight_fraction_leaf=0.0, presort=False,\n            random_state=954863080, splitter='best'), DecisionTreeClassifier(class_weight=None, criterion='gini', max_depth=2,\n            max_features='auto', max_leaf_nodes=None,\n            min_impurity_decrease=0.0, min_impurity_split=None,\n            min_samples_leaf=1, min_samples_split=2,\n            min_weight_fraction_leaf=0.0, presort=False,\n            random_state=502227700, splitter='best'), DecisionTreeClassifier(class_weight=None, criterion='gini', max_depth=2,\n            max_features='auto', max_leaf_nodes=None,\n            min_impurity_decrease=0.0, min_impurity_split=None,\n            min_samples_leaf=1, min_samples_split=2,\n            min_weight_fraction_leaf=0.0, presort=False,\n            random_state=1659957521, splitter='best'), DecisionTreeClassifier(class_weight=None, criterion='gini', max_depth=2,\n            max_features='auto', max_leaf_nodes=None,\n            min_impurity_decrease=0.0, min_impurity_split=None,\n            min_samples_leaf=1, min_samples_split=2,\n            min_weight_fraction_leaf=0.0, presort=False,\n            random_state=1905883471, splitter='best'), DecisionTreeClassifier(class_weight=None, criterion='gini', max_depth=2,\n            max_features='auto', max_leaf_nodes=None,\n            min_impurity_decrease=0.0, min_impurity_split=None,\n            min_samples_leaf=1, min_samples_split=2,\n            min_weight_fraction_leaf=0.0, presort=False,\n            random_state=1729147268, splitter='best'), DecisionTreeClassifier(class_weight=None, criterion='gini', max_depth=2,\n            max_features='auto', max_leaf_nodes=None,\n            min_impurity_decrease=0.0, min_impurity_split=None,\n            min_samples_leaf=1, min_samples_split=2,\n            min_weight_fraction_leaf=0.0, presort=False,\n            random_state=780912233, splitter='best'), DecisionTreeClassifier(class_weight=None, criterion='gini', max_depth=2,\n            max_features='auto', max_leaf_nodes=None,\n            min_impurity_decrease=0.0, min_impurity_split=None,\n            min_samples_leaf=1, min_samples_split=2,\n            min_weight_fraction_leaf=0.0, presort=False,\n            random_state=1932520490, splitter='best'), DecisionTreeClassifier(class_weight=None, criterion='gini', max_depth=2,\n            max_features='auto', max_leaf_nodes=None,\n            min_impurity_decrease=0.0, min_impurity_split=None,\n            min_samples_leaf=1, min_samples_split=2,\n            min_weight_fraction_leaf=0.0, presort=False,\n            random_state=1544074682, splitter='best'), DecisionTreeClassifier(class_weight=None, criterion='gini', max_depth=2,\n            max_features='auto', max_leaf_nodes=None,\n            min_impurity_decrease=0.0, min_impurity_split=None,\n            min_samples_leaf=1, min_samples_split=2,\n            min_weight_fraction_leaf=0.0, presort=False,\n            random_state=485603871, splitter='best'), DecisionTreeClassifier(class_weight=None, criterion='gini', max_depth=2,\n            max_features='auto', max_leaf_nodes=None,\n            min_impurity_decrease=0.0, min_impurity_split=None,\n            min_samples_leaf=1, min_samples_split=2,\n            min_weight_fraction_leaf=0.0, presort=False,\n            random_state=1877037944, splitter='best'), DecisionTreeClassifier(class_weight=None, criterion='gini', max_depth=2,\n            max_features='auto', max_leaf_nodes=None,\n            min_impurity_decrease=0.0, min_impurity_split=None,\n            min_samples_leaf=1, min_samples_split=2,\n            min_weight_fraction_leaf=0.0, presort=False,\n            random_state=1728073985, splitter='best'), DecisionTreeClassifier(class_weight=None, criterion='gini', max_depth=2,\n            max_features='auto', max_leaf_nodes=None,\n            min_impurity_decrease=0.0, min_impurity_split=None,\n            min_samples_leaf=1, min_samples_split=2,\n            min_weight_fraction_leaf=0.0, presort=False,\n            random_state=848819521, splitter='best'), DecisionTreeClassifier(class_weight=None, criterion='gini', max_depth=2,\n            max_features='auto', max_leaf_nodes=None,\n            min_impurity_decrease=0.0, min_impurity_split=None,\n            min_samples_leaf=1, min_samples_split=2,\n            min_weight_fraction_leaf=0.0, presort=False,\n            random_state=426405863, splitter='best'), DecisionTreeClassifier(class_weight=None, criterion='gini', max_depth=2,\n            max_features='auto', max_leaf_nodes=None,\n            min_impurity_decrease=0.0, min_impurity_split=None,\n            min_samples_leaf=1, min_samples_split=2,\n            min_weight_fraction_leaf=0.0, presort=False,\n            random_state=258666409, splitter='best'), DecisionTreeClassifier(class_weight=None, criterion='gini', max_depth=2,\n            max_features='auto', max_leaf_nodes=None,\n            min_impurity_decrease=0.0, min_impurity_split=None,\n            min_samples_leaf=1, min_samples_split=2,\n            min_weight_fraction_leaf=0.0, presort=False,\n            random_state=2017814585, splitter='best'), DecisionTreeClassifier(class_weight=None, criterion='gini', max_depth=2,\n            max_features='auto', max_leaf_nodes=None,\n            min_impurity_decrease=0.0, min_impurity_split=None,\n            min_samples_leaf=1, min_samples_split=2,\n            min_weight_fraction_leaf=0.0, presort=False,\n            random_state=716257571, splitter='best'), DecisionTreeClassifier(class_weight=None, criterion='gini', max_depth=2,\n            max_features='auto', max_leaf_nodes=None,\n            min_impurity_decrease=0.0, min_impurity_split=None,\n            min_samples_leaf=1, min_samples_split=2,\n            min_weight_fraction_leaf=0.0, presort=False,\n            random_state=657731430, splitter='best'), DecisionTreeClassifier(class_weight=None, criterion='gini', max_depth=2,\n            max_features='auto', max_leaf_nodes=None,\n            min_impurity_decrease=0.0, min_impurity_split=None,\n            min_samples_leaf=1, min_samples_split=2,\n            min_weight_fraction_leaf=0.0, presort=False,\n            random_state=732884087, splitter='best'), DecisionTreeClassifier(class_weight=None, criterion='gini', max_depth=2,\n            max_features='auto', max_leaf_nodes=None,\n            min_impurity_decrease=0.0, min_impurity_split=None,\n            min_samples_leaf=1, min_samples_split=2,\n            min_weight_fraction_leaf=0.0, presort=False,\n            random_state=734051083, splitter='best'), DecisionTreeClassifier(class_weight=None, criterion='gini', max_depth=2,\n            max_features='auto', max_leaf_nodes=None,\n            min_impurity_decrease=0.0, min_impurity_split=None,\n            min_samples_leaf=1, min_samples_split=2,\n            min_weight_fraction_leaf=0.0, presort=False,\n            random_state=903586222, splitter='best'), DecisionTreeClassifier(class_weight=None, criterion='gini', max_depth=2,\n            max_features='auto', max_leaf_nodes=None,\n            min_impurity_decrease=0.0, min_impurity_split=None,\n            min_samples_leaf=1, min_samples_split=2,\n            min_weight_fraction_leaf=0.0, presort=False,\n            random_state=1538251858, splitter='best'), DecisionTreeClassifier(class_weight=None, criterion='gini', max_depth=2,\n            max_features='auto', max_leaf_nodes=None,\n            min_impurity_decrease=0.0, min_impurity_split=None,\n            min_samples_leaf=1, min_samples_split=2,\n            min_weight_fraction_leaf=0.0, presort=False,\n            random_state=553734235, splitter='best'), DecisionTreeClassifier(class_weight=None, criterion='gini', max_depth=2,\n            max_features='auto', max_leaf_nodes=None,\n            min_impurity_decrease=0.0, min_impurity_split=None,\n            min_samples_leaf=1, min_samples_split=2,\n            min_weight_fraction_leaf=0.0, presort=False,\n            random_state=1076688768, splitter='best'), DecisionTreeClassifier(class_weight=None, criterion='gini', max_depth=2,\n            max_features='auto', max_leaf_nodes=None,\n            min_impurity_decrease=0.0, min_impurity_split=None,\n            min_samples_leaf=1, min_samples_split=2,\n            min_weight_fraction_leaf=0.0, presort=False,\n            random_state=1354754446, splitter='best'), DecisionTreeClassifier(class_weight=None, criterion='gini', max_depth=2,\n            max_features='auto', max_leaf_nodes=None,\n            min_impurity_decrease=0.0, min_impurity_split=None,\n            min_samples_leaf=1, min_samples_split=2,\n            min_weight_fraction_leaf=0.0, presort=False,\n            random_state=463129187, splitter='best'), DecisionTreeClassifier(class_weight=None, criterion='gini', max_depth=2,\n            max_features='auto', max_leaf_nodes=None,\n            min_impurity_decrease=0.0, min_impurity_split=None,\n            min_samples_leaf=1, min_samples_split=2,\n            min_weight_fraction_leaf=0.0, presort=False,\n            random_state=1562125877, splitter='best'), DecisionTreeClassifier(class_weight=None, criterion='gini', max_depth=2,\n            max_features='auto', max_leaf_nodes=None,\n            min_impurity_decrease=0.0, min_impurity_split=None,\n            min_samples_leaf=1, min_samples_split=2,\n            min_weight_fraction_leaf=0.0, presort=False,\n            random_state=1396067212, splitter='best')] is not an estimator instance."
     ]
    }
   ],
   "source": [
    "t = sklearn.tree.export_graphviz(clf.estimators_,feature_names = X.columns,\n",
    "                class_names = X.columns,\n",
    "                rounded = True, proportion = False, \n",
    "                precision = 1, filled = True) \n",
    "\n",
    "print(t)"
   ]
  },
  {
   "cell_type": "code",
   "execution_count": null,
   "metadata": {},
   "outputs": [],
   "source": []
  }
 ],
 "metadata": {
  "kernelspec": {
   "display_name": "Python 3",
   "language": "python",
   "name": "python3"
  },
  "language_info": {
   "codemirror_mode": {
    "name": "ipython",
    "version": 3
   },
   "file_extension": ".py",
   "mimetype": "text/x-python",
   "name": "python",
   "nbconvert_exporter": "python",
   "pygments_lexer": "ipython3",
   "version": "3.6.4"
  }
 },
 "nbformat": 4,
 "nbformat_minor": 2
}
