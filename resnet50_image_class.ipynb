{
 "cells": [
  {
   "cell_type": "code",
   "execution_count": 6,
   "metadata": {},
   "outputs": [],
   "source": [
    "from keras.applications.resnet50 import ResNet50\n",
    "from keras.preprocessing import image\n",
    "from keras.applications.resnet50 import preprocess_input, decode_predictions\n",
    "import numpy as np\n",
    "\n",
    "import os\n",
    "import time"
   ]
  },
  {
   "cell_type": "code",
   "execution_count": 7,
   "metadata": {},
   "outputs": [
    {
     "name": "stdout",
     "output_type": "stream",
     "text": [
      "/Users/Mihai/Documents/Project_5152cv/derma_diagnosis\n"
     ]
    }
   ],
   "source": [
    "curr_dir = os.getcwd()\n",
    "print(curr_dir)"
   ]
  },
  {
   "cell_type": "code",
   "execution_count": 11,
   "metadata": {},
   "outputs": [],
   "source": [
    "dict_images={\n",
    "    'names':['ISIC_0033919.jpg','ISIC_0027242.jpg','ISIC_0030581.jpg','ISIC_0033920.jpg',\n",
    "             'ISIC_0027243.jpg','ISIC_0030582.jpg','ISIC_0033921.jpg']}"
   ]
  },
  {
   "cell_type": "code",
   "execution_count": 15,
   "metadata": {},
   "outputs": [
    {
     "name": "stdout",
     "output_type": "stream",
     "text": [
      "ISIC_0033919.jpg\n",
      "Predicted: [('n02786058', 'Band_Aid', 0.6722671), ('n01776313', 'tick', 0.13083287), ('n03887697', 'paper_towel', 0.037067544)]\n",
      "ISIC_0027242.jpg\n",
      "Predicted: [('n01776313', 'tick', 0.46078438), ('n02786058', 'Band_Aid', 0.2104061), ('n02264363', 'lacewing', 0.061003592)]\n",
      "ISIC_0030581.jpg\n",
      "Predicted: [('n01776313', 'tick', 0.998171), ('n03920288', 'Petri_dish', 0.00021577934), ('n13044778', 'earthstar', 0.00017423822)]\n",
      "ISIC_0033920.jpg\n",
      "Predicted: [('n01776313', 'tick', 0.88243735), ('n02786058', 'Band_Aid', 0.11640172), ('n02219486', 'ant', 0.00032028856)]\n",
      "ISIC_0027243.jpg\n",
      "Predicted: [('n09288635', 'geyser', 0.27735418), ('n07248320', 'book_jacket', 0.13094413), ('n02786058', 'Band_Aid', 0.12050227)]\n",
      "ISIC_0030582.jpg\n",
      "Predicted: [('n01776313', 'tick', 0.73123527), ('n03692522', 'loupe', 0.12670794), ('n03314780', 'face_powder', 0.03958898)]\n",
      "ISIC_0033921.jpg\n",
      "Predicted: [('n01776313', 'tick', 0.9995146), ('n04116512', 'rubber_eraser', 0.00011075418), ('n02786058', 'Band_Aid', 9.217113e-05)]\n"
     ]
    }
   ],
   "source": [
    "model = ResNet50(weights='imagenet')\n",
    "#img_path = curr_dir+'/Elephant.jpg'\n",
    "\n",
    "for name in dict_images.get('names'):\n",
    "    print(name)\n",
    "    img_path = curr_dir+'/data/ISIC2018_Task3_Training_Input/'+name\n",
    "    img = image.load_img(img_path, target_size=(224, 224))\n",
    "    x = image.img_to_array(img)\n",
    "    x = np.expand_dims(x, axis=0)\n",
    "    x = preprocess_input(x)\n",
    "\n",
    "    preds = model.predict(x)\n",
    "    # decode the results into a list of tuples (class, description, probability)\n",
    "    # (one such list for each sample in the batch)\n",
    "    print('Predicted:', decode_predictions(preds, top=3)[0])\n",
    "    # Predicted: [(u'n02504013', u'Indian_elephant', 0.82658225), (u'n01871265', u'tusker', 0.1122357), (u'n02504458', u'African_elephant', 0.061040461)]\n"
   ]
  },
  {
   "cell_type": "code",
   "execution_count": null,
   "metadata": {},
   "outputs": [],
   "source": []
  }
 ],
 "metadata": {
  "kernelspec": {
   "display_name": "Python 3",
   "language": "python",
   "name": "python3"
  },
  "language_info": {
   "codemirror_mode": {
    "name": "ipython",
    "version": 3
   },
   "file_extension": ".py",
   "mimetype": "text/x-python",
   "name": "python",
   "nbconvert_exporter": "python",
   "pygments_lexer": "ipython3",
   "version": "3.6.4"
  }
 },
 "nbformat": 4,
 "nbformat_minor": 2
}
